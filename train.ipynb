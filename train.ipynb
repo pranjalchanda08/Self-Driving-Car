{
 "cells": [
  {
   "cell_type": "markdown",
   "id": "b4de4f9c",
   "metadata": {},
   "source": [
    "## Import Libraries"
   ]
  },
  {
   "cell_type": "code",
   "execution_count": 1,
   "id": "638971c9-d99c-446b-8bc5-cf87c6b67cec",
   "metadata": {},
   "outputs": [],
   "source": [
    "import utils.utils as ut"
   ]
  },
  {
   "cell_type": "markdown",
   "id": "df2240e0",
   "metadata": {},
   "source": [
    "### Step 1: Import data"
   ]
  },
  {
   "cell_type": "code",
   "execution_count": 2,
   "id": "21b6aba1",
   "metadata": {},
   "outputs": [
    {
     "name": "stdout",
     "output_type": "stream",
     "text": [
      "Total Images:  32443\n"
     ]
    }
   ],
   "source": [
    "data = ut.import_data_info('./dataset', 'driving_log.csv')\n",
    "print(\"Total Images: \", len(data))"
   ]
  },
  {
   "cell_type": "markdown",
   "id": "ddd85424",
   "metadata": {},
   "source": [
    "### Step 2: Get Balanced data"
   ]
  },
  {
   "cell_type": "code",
   "execution_count": 3,
   "id": "a94d4b1f",
   "metadata": {},
   "outputs": [
    {
     "name": "stdout",
     "output_type": "stream",
     "text": [
      "Removed data len:  18778\n",
      "Remaining data len:  13665\n"
     ]
    }
   ],
   "source": [
    "data = ut.get_balance_data(data, True)"
   ]
  },
  {
   "cell_type": "code",
   "execution_count": null,
   "id": "fd45cdc2",
   "metadata": {},
   "outputs": [],
   "source": []
  }
 ],
 "metadata": {
  "kernelspec": {
   "display_name": "Python 3 (ipykernel)",
   "language": "python",
   "name": "python3"
  },
  "language_info": {
   "codemirror_mode": {
    "name": "ipython",
    "version": 3
   },
   "file_extension": ".py",
   "mimetype": "text/x-python",
   "name": "python",
   "nbconvert_exporter": "python",
   "pygments_lexer": "ipython3",
   "version": "3.8.5"
  }
 },
 "nbformat": 4,
 "nbformat_minor": 5
}
