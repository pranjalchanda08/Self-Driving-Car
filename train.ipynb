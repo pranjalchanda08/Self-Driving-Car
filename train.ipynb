{
 "cells": [
  {
   "cell_type": "markdown",
   "id": "37082581",
   "metadata": {},
   "source": [
    "## 1. Import Libraries"
   ]
  },
  {
   "cell_type": "code",
   "execution_count": 1,
   "id": "bd5c3072",
   "metadata": {},
   "outputs": [],
   "source": [
    "import os\n",
    "os.environ['TF_CPP_MIN_LOG_LEVEL'] = '1'\n",
    "import utils.utils as ut\n",
    "%matplotlib inline"
   ]
  },
  {
   "cell_type": "markdown",
   "id": "d2d86bf0",
   "metadata": {},
   "source": [
    "### 1.1. Import Tensorflow and Test GPU\n",
    "\n",
    "Follow README.md for installation guidance"
   ]
  },
  {
   "cell_type": "code",
   "execution_count": 2,
   "id": "ac60e56f",
   "metadata": {},
   "outputs": [
    {
     "name": "stdout",
     "output_type": "stream",
     "text": [
      "PhysicalDevice(name='/physical_device:GPU:0', device_type='GPU')\n"
     ]
    }
   ],
   "source": [
    "import tensorflow as tf\n",
    "\n",
    "print(tf.config.list_physical_devices('GPU')[0])"
   ]
  },
  {
   "cell_type": "markdown",
   "id": "c5ba5ac6",
   "metadata": {},
   "source": [
    "## 2. Import data"
   ]
  },
  {
   "cell_type": "code",
   "execution_count": 3,
   "id": "02fe26b3",
   "metadata": {},
   "outputs": [
    {
     "name": "stdout",
     "output_type": "stream",
     "text": [
      "Total Images:  32443\n",
      "                               Center                              Left  \\\n",
      "0  center_2019_04_02_19_25_33_671.jpg  left_2019_04_02_19_25_33_671.jpg   \n",
      "1  center_2019_04_02_19_25_33_743.jpg  left_2019_04_02_19_25_33_743.jpg   \n",
      "2  center_2019_04_02_19_25_33_816.jpg  left_2019_04_02_19_25_33_816.jpg   \n",
      "3  center_2019_04_02_19_25_33_887.jpg  left_2019_04_02_19_25_33_887.jpg   \n",
      "4  center_2019_04_02_19_25_33_959.jpg  left_2019_04_02_19_25_33_959.jpg   \n",
      "\n",
      "                               Right  Steering  Throttle  Brake     Speed  \n",
      "0  right_2019_04_02_19_25_33_671.jpg       0.0  0.000000    0.0  0.000011  \n",
      "1  right_2019_04_02_19_25_33_743.jpg       0.0  0.000000    0.0  0.000007  \n",
      "2  right_2019_04_02_19_25_33_816.jpg       0.0  0.000000    0.0  0.000003  \n",
      "3  right_2019_04_02_19_25_33_887.jpg       0.0  0.048016    0.0  0.002267  \n",
      "4  right_2019_04_02_19_25_33_959.jpg       0.0  0.281203    0.0  0.175589  \n"
     ]
    }
   ],
   "source": [
    "data = ut.import_data_info('./dataset', 'driving_log.csv')\n",
    "print(\"Total Images: \", len(data))\n",
    "print(data.head())"
   ]
  },
  {
   "cell_type": "markdown",
   "id": "526c8826",
   "metadata": {},
   "source": [
    "## 3. Get Balanced data"
   ]
  },
  {
   "cell_type": "code",
   "execution_count": 4,
   "id": "8ac04855",
   "metadata": {},
   "outputs": [
    {
     "data": {
      "image/png": "[encoded data removed]",
      "text/plain": [
       "<Figure size 432x288 with 1 Axes>"
      ]
     },
     "metadata": {
      "needs_background": "light"
     },
     "output_type": "display_data"
    },
    {
     "data": {
      "image/png": "[encoded data removed]",
      "text/plain": [
       "<Figure size 432x288 with 1 Axes>"
      ]
     },
     "metadata": {
      "needs_background": "light"
     },
     "output_type": "display_data"
    },
    {
     "name": "stdout",
     "output_type": "stream",
     "text": [
      "Removed data len:  16497\n",
      "Remaining data len:  15946\n"
     ]
    }
   ],
   "source": [
    "data = ut.get_balance_data(data, True)"
   ]
  },
  {
   "cell_type": "markdown",
   "id": "e924f030",
   "metadata": {},
   "source": [
    "## 4. Data Preparation"
   ]
  },
  {
   "cell_type": "markdown",
   "id": "4b44a23f",
   "metadata": {},
   "source": [
    "### 4.1. Get Image Path Array"
   ]
  },
  {
   "cell_type": "code",
   "execution_count": 5,
   "id": "fcdccbed",
   "metadata": {},
   "outputs": [
    {
     "name": "stdout",
     "output_type": "stream",
     "text": [
      "['/home/pranjal/Git/Self-Driving-Car/dataset/IMG/center_2019_04_02_19_25_33_887.jpg'\n",
      " '/home/pranjal/Git/Self-Driving-Car/dataset/IMG/center_2019_04_02_19_25_34_313.jpg'\n",
      " '/home/pranjal/Git/Self-Driving-Car/dataset/IMG/center_2019_04_02_19_25_35_092.jpg'\n",
      " ...\n",
      " '/home/pranjal/Git/Self-Driving-Car/dataset/IMG/center_2019_04_02_18_31_04_156.jpg'\n",
      " '/home/pranjal/Git/Self-Driving-Car/dataset/IMG/center_2019_04_02_18_31_04_226.jpg'\n",
      " '/home/pranjal/Git/Self-Driving-Car/dataset/IMG/center_2019_04_02_18_31_04_295.jpg'] [ 0.    0.   -0.15 ...  1.    1.    1.  ]\n"
     ]
    }
   ],
   "source": [
    "image_abs_paths, steering_values = ut.load_data('./dataset', data)\n",
    "print(image_abs_paths, steering_values)"
   ]
  },
  {
   "cell_type": "markdown",
   "id": "e4f6dc87",
   "metadata": {},
   "source": [
    "### 4.2. Split Train and Test data"
   ]
  },
  {
   "cell_type": "code",
   "execution_count": 6,
   "id": "8bd76183",
   "metadata": {},
   "outputs": [
    {
     "name": "stdout",
     "output_type": "stream",
     "text": [
      "Train data length:  12756\n",
      "Validation data length:  3190\n"
     ]
    }
   ],
   "source": [
    "from sklearn.model_selection import train_test_split\n",
    "\n",
    "x_train, x_val, y_train, y_val = train_test_split(image_abs_paths, steering_values, test_size=0.2, random_state=5)\n",
    "print(\"Train data length: \", len(x_train))\n",
    "print(\"Validation data length: \", len(x_val))"
   ]
  },
  {
   "cell_type": "markdown",
   "id": "5cab8538",
   "metadata": {},
   "source": [
    "## 5. Augmentation, Pre Processing and Batch Generation"
   ]
  },
  {
   "cell_type": "code",
   "execution_count": 7,
   "id": "8e130ca1",
   "metadata": {},
   "outputs": [],
   "source": [
    "import numpy as np\n",
    "\n",
    "def batch_gen(image_paths, steering_list, batch_size, is_train: bool = True):\n",
    "    while True:\n",
    "        img_batch = []\n",
    "        steering_batch = []\n",
    "        \n",
    "        for i in range(batch_size):\n",
    "            index = np.random.randint(0, len(image_paths)-1)\n",
    "            if is_train:\n",
    "                # Augment only when Its training data\n",
    "                img, steering = ut.augment_image(image_paths[index], steering_list[index])\n",
    "            else:\n",
    "                img, steering = ut.read_img(image_paths[index]), steering_list[index]\n",
    "            img = ut.pre_process(img)\n",
    "            img_batch.append(img)\n",
    "            steering_batch.append(steering)\n",
    "        yield np.asarray(img_batch), np.asarray(steering_batch)"
   ]
  },
  {
   "cell_type": "markdown",
   "id": "17f5dcd2",
   "metadata": {},
   "source": [
    "## 6. Model Training"
   ]
  },
  {
   "cell_type": "markdown",
   "id": "8ebd5c9b",
   "metadata": {},
   "source": [
    "### 6.1. Create Model"
   ]
  },
  {
   "cell_type": "code",
   "execution_count": 8,
   "id": "669b8086",
   "metadata": {},
   "outputs": [
    {
     "name": "stdout",
     "output_type": "stream",
     "text": [
      "Model: \"sequential\"\n",
      "_________________________________________________________________\n",
      "Layer (type)                 Output Shape              Param #   \n",
      "=================================================================\n",
      "conv2d (Conv2D)              (None, 31, 98, 24)        1824      \n",
      "_________________________________________________________________\n",
      "conv2d_1 (Conv2D)            (None, 14, 47, 36)        21636     \n",
      "_________________________________________________________________\n",
      "conv2d_2 (Conv2D)            (None, 5, 22, 48)         43248     \n",
      "_________________________________________________________________\n",
      "conv2d_3 (Conv2D)            (None, 3, 20, 64)         27712     \n",
      "_________________________________________________________________\n",
      "conv2d_4 (Conv2D)            (None, 1, 18, 64)         36928     \n",
      "_________________________________________________________________\n",
      "flatten (Flatten)            (None, 1152)              0         \n",
      "_________________________________________________________________\n",
      "dense (Dense)                (None, 100)               115300    \n",
      "_________________________________________________________________\n",
      "dense_1 (Dense)              (None, 50)                5050      \n",
      "_________________________________________________________________\n",
      "dense_2 (Dense)              (None, 10)                510       \n",
      "_________________________________________________________________\n",
      "dense_3 (Dense)              (None, 1)                 11        \n",
      "=================================================================\n",
      "Total params: 252,219\n",
      "Trainable params: 252,219\n",
      "Non-trainable params: 0\n",
      "_________________________________________________________________\n"
     ]
    }
   ],
   "source": [
    "model = ut.create_model(learning_rate = 0.0001, loss_fn = 'mse') # Using loss function Mean Square Error\n",
    "model.summary()"
   ]
  },
  {
   "cell_type": "markdown",
   "id": "4966c876",
   "metadata": {},
   "source": [
    "### 6.2. Create Checkpoint Callback to save Epoch data\n",
    "\n",
    "Save intermediate Epoch data for safety purpose."
   ]
  },
  {
   "cell_type": "code",
   "execution_count": 9,
   "id": "6d67cc93",
   "metadata": {},
   "outputs": [],
   "source": [
    "checkpoint_filepath = 'model/checkpoint'\n",
    "\n",
    "model_checkpoint_callback = tf.keras.callbacks.ModelCheckpoint(\n",
    "    filepath=checkpoint_filepath,\n",
    "    save_weights_only=True,\n",
    "    monitor='val_loss',\n",
    "    mode='max',\n",
    "    save_best_only=True)"
   ]
  },
  {
   "cell_type": "markdown",
   "id": "a146a898",
   "metadata": {},
   "source": [
    "### 6.3. Train the model"
   ]
  },
  {
   "cell_type": "code",
   "execution_count": 10,
   "id": "317dbc61",
   "metadata": {},
   "outputs": [
    {
     "name": "stdout",
     "output_type": "stream",
     "text": [
      "Epoch 1/200\n"
     ]
    },
    {
     "name": "stderr",
     "output_type": "stream",
     "text": [
      "2021-07-11 21:53:02.003018: E tensorflow/core/platform/default/subprocess.cc:304] Start cannot spawn child process: No such file or directory\n",
      "2021-07-11 21:53:02.003068: W tensorflow/stream_executor/gpu/asm_compiler.cc:56] Couldn't invoke ptxas --version\n",
      "2021-07-11 21:53:02.003505: E tensorflow/core/platform/default/subprocess.cc:304] Start cannot spawn child process: No such file or directory\n",
      "2021-07-11 21:53:02.003565: W tensorflow/stream_executor/gpu/redzone_allocator.cc:314] Internal: Failed to launch ptxas\n",
      "Relying on driver to perform ptx compilation. \n",
      "Modify $PATH to customize ptxas location.\n",
      "This message will be only logged once.\n"
     ]
    },
    {
     "name": "stdout",
     "output_type": "stream",
     "text": [
      " 2/10 [=====>........................] - ETA: 7s - loss: 0.3814 "
     ]
    }
   ],
   "source": [
    "try:\n",
    "    history = model.fit(batch_gen(x_train, y_train, 500, True), steps_per_epoch=10, epochs=200, \n",
    "                    validation_data=batch_gen(x_val, y_val, 100, False), \n",
    "                    validation_steps=20, callbacks=model_checkpoint_callback)\n",
    "except KeyboardInterrupt:\n",
    "    pass\n",
    "finally:\n",
    "    model.save('model/model.h5')"
   ]
  }
 ],
 "metadata": {
  "kernelspec": {
   "display_name": "Python 3 (ipykernel)",
   "language": "python",
   "name": "python3"
  },
  "language_info": {
   "codemirror_mode": {
    "name": "ipython",
    "version": 3
   },
   "file_extension": ".py",
   "mimetype": "text/x-python",
   "name": "python",
   "nbconvert_exporter": "python",
   "pygments_lexer": "ipython3",
   "version": "3.8.5"
  }
 },
 "nbformat": 4,
 "nbformat_minor": 5
}
