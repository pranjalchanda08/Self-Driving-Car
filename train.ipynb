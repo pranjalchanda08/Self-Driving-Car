{
 "cells": [
  {
   "cell_type": "markdown",
   "id": "37082581",
   "metadata": {},
   "source": [
    "## 1. Import Libraries"
   ]
  },
  {
   "cell_type": "code",
   "execution_count": null,
   "id": "bd5c3072",
   "metadata": {},
   "outputs": [],
   "source": [
    "import os\n",
    "os.environ['TF_CPP_MIN_LOG_LEVEL'] = '1'\n",
    "import utils.utils as ut\n",
    "%matplotlib inline"
   ]
  },
  {
   "cell_type": "markdown",
   "id": "d2d86bf0",
   "metadata": {},
   "source": [
    "### 1.1. Import Tensorflow and Test GPU\n",
    "\n",
    "Follow README.md for installation guidance"
   ]
  },
  {
   "cell_type": "code",
   "execution_count": 2,
   "id": "ac60e56f",
   "metadata": {},
   "outputs": [
    {
     "name": "stdout",
     "output_type": "stream",
     "text": [
      "PhysicalDevice(name='/physical_device:GPU:0', device_type='GPU')\n"
     ]
    }
   ],
   "source": [
    "import tensorflow as tf\n",
    "\n",
    "print(tf.config.list_physical_devices('GPU')[0])"
   ]
  },
  {
   "cell_type": "markdown",
   "id": "c5ba5ac6",
   "metadata": {},
   "source": [
    "## 2. Import data"
   ]
  },
  {
   "cell_type": "code",
   "execution_count": 3,
   "id": "02fe26b3",
   "metadata": {},
   "outputs": [
    {
     "name": "stdout",
     "output_type": "stream",
     "text": [
      "Total Images:  32443\n",
      "                               Center                              Left  \\\n",
      "0  center_2019_04_02_19_25_33_671.jpg  left_2019_04_02_19_25_33_671.jpg   \n",
      "1  center_2019_04_02_19_25_33_743.jpg  left_2019_04_02_19_25_33_743.jpg   \n",
      "2  center_2019_04_02_19_25_33_816.jpg  left_2019_04_02_19_25_33_816.jpg   \n",
      "3  center_2019_04_02_19_25_33_887.jpg  left_2019_04_02_19_25_33_887.jpg   \n",
      "4  center_2019_04_02_19_25_33_959.jpg  left_2019_04_02_19_25_33_959.jpg   \n",
      "\n",
      "                               Right  Steering  Throttle  Brake     Speed  \n",
      "0  right_2019_04_02_19_25_33_671.jpg       0.0  0.000000    0.0  0.000011  \n",
      "1  right_2019_04_02_19_25_33_743.jpg       0.0  0.000000    0.0  0.000007  \n",
      "2  right_2019_04_02_19_25_33_816.jpg       0.0  0.000000    0.0  0.000003  \n",
      "3  right_2019_04_02_19_25_33_887.jpg       0.0  0.048016    0.0  0.002267  \n",
      "4  right_2019_04_02_19_25_33_959.jpg       0.0  0.281203    0.0  0.175589  \n"
     ]
    }
   ],
   "source": [
    "data = ut.import_data_info('./dataset', 'driving_log.csv')\n",
    "print(\"Total Images: \", len(data))\n",
    "print(data.head())"
   ]
  },
  {
   "cell_type": "markdown",
   "id": "526c8826",
   "metadata": {},
   "source": [
    "## 3. Get Balanced data"
   ]
  },
  {
   "cell_type": "code",
   "execution_count": 4,
   "id": "8ac04855",
   "metadata": {},
   "outputs": [
    {
     "data": {
      "image/png": "[encoded data removed]",
      "text/plain": [
       "<Figure size 432x288 with 1 Axes>"
      ]
     },
     "metadata": {
      "needs_background": "light"
     },
     "output_type": "display_data"
    },
    {
     "data": {
      "image/png": "[encoded data removed]",
      "text/plain": [
       "<Figure size 432x288 with 1 Axes>"
      ]
     },
     "metadata": {
      "needs_background": "light"
     },
     "output_type": "display_data"
    },
    {
     "name": "stdout",
     "output_type": "stream",
     "text": [
      "Removed data len:  16497\n",
      "Remaining data len:  15946\n"
     ]
    }
   ],
   "source": [
    "data = ut.get_balance_data(data, True)"
   ]
  },
  {
   "cell_type": "markdown",
   "id": "e924f030",
   "metadata": {},
   "source": [
    "## 4. Data Preparation"
   ]
  },
  {
   "cell_type": "markdown",
   "id": "4b44a23f",
   "metadata": {},
   "source": [
    "### 4.1. Get Image Path Array"
   ]
  },
  {
   "cell_type": "code",
   "execution_count": 5,
   "id": "fcdccbed",
   "metadata": {},
   "outputs": [
    {
     "name": "stdout",
     "output_type": "stream",
     "text": [
      "['/home/pranjal/Git/Self-Driving-Car/dataset/IMG/center_2019_04_02_19_25_33_671.jpg'\n",
      " '/home/pranjal/Git/Self-Driving-Car/dataset/IMG/center_2019_04_02_19_25_34_243.jpg'\n",
      " '/home/pranjal/Git/Self-Driving-Car/dataset/IMG/center_2019_04_02_19_25_35_092.jpg'\n",
      " ...\n",
      " '/home/pranjal/Git/Self-Driving-Car/dataset/IMG/center_2019_04_02_18_31_04_295.jpg'\n",
      " '/home/pranjal/Git/Self-Driving-Car/dataset/IMG/center_2019_04_02_18_31_04_500.jpg'\n",
      " '/home/pranjal/Git/Self-Driving-Car/dataset/IMG/center_2019_04_02_18_31_04_570.jpg'] [ 0.    0.   -0.15 ...  1.    0.    0.  ]\n"
     ]
    }
   ],
   "source": [
    "image_abs_paths, steering_values = ut.load_data('./dataset', data)\n",
    "print(image_abs_paths, steering_values)"
   ]
  },
  {
   "cell_type": "markdown",
   "id": "e4f6dc87",
   "metadata": {},
   "source": [
    "### 4.2. Split Train and Test data"
   ]
  },
  {
   "cell_type": "code",
   "execution_count": 6,
   "id": "8bd76183",
   "metadata": {},
   "outputs": [
    {
     "name": "stdout",
     "output_type": "stream",
     "text": [
      "Train data length:  12756\n",
      "Validation data length:  3190\n"
     ]
    }
   ],
   "source": [
    "from sklearn.model_selection import train_test_split\n",
    "\n",
    "x_train, x_val, y_train, y_val = train_test_split(image_abs_paths, steering_values, test_size=0.2, random_state=5)\n",
    "print(\"Train data length: \", len(x_train))\n",
    "print(\"Validation data length: \", len(x_val))"
   ]
  },
  {
   "cell_type": "markdown",
   "id": "5cab8538",
   "metadata": {},
   "source": [
    "## 5. Augmentation, Pre Processing and Batch Generation"
   ]
  },
  {
   "cell_type": "code",
   "execution_count": 7,
   "id": "8e130ca1",
   "metadata": {},
   "outputs": [],
   "source": [
    "import numpy as np\n",
    "\n",
    "def batch_gen(image_paths, steering_list, batch_size, is_train: bool = True):\n",
    "    while True:\n",
    "        img_batch = []\n",
    "        steering_batch = []\n",
    "        \n",
    "        for i in range(batch_size):\n",
    "            index = np.random.randint(0, len(image_paths)-1)\n",
    "            if is_train:\n",
    "                # Augment only when Its training data\n",
    "                img, steering = ut.augment_image(image_paths[index], steering_list[index])\n",
    "            else:\n",
    "                img, steering = ut.read_img(image_paths[index]), steering_list[index]\n",
    "            img = ut.pre_process(img)\n",
    "            img_batch.append(img)\n",
    "            steering_batch.append(steering)\n",
    "        yield np.asarray(img_batch), np.asarray(steering_batch)"
   ]
  },
  {
   "cell_type": "markdown",
   "id": "17f5dcd2",
   "metadata": {},
   "source": [
    "## 6. Model Training"
   ]
  },
  {
   "cell_type": "markdown",
   "id": "8ebd5c9b",
   "metadata": {},
   "source": [
    "### 6.1. Define Model Params"
   ]
  },
  {
   "cell_type": "code",
   "execution_count": 8,
   "id": "3a9856f0",
   "metadata": {},
   "outputs": [],
   "source": [
    "params = {\n",
    "    'learning_rate' : 0.0001,\n",
    "    'loss_fn' : 'mse',\n",
    "    'activation' : 'elu'\n",
    "}"
   ]
  },
  {
   "cell_type": "markdown",
   "id": "09b82bd3",
   "metadata": {},
   "source": [
    "### 6.2. Create Model"
   ]
  },
  {
   "cell_type": "code",
   "execution_count": 9,
   "id": "669b8086",
   "metadata": {},
   "outputs": [
    {
     "name": "stdout",
     "output_type": "stream",
     "text": [
      "Model: \"sequential\"\n",
      "_________________________________________________________________\n",
      "Layer (type)                 Output Shape              Param #   \n",
      "=================================================================\n",
      "conv2d (Conv2D)              (None, 31, 98, 24)        1824      \n",
      "_________________________________________________________________\n",
      "conv2d_1 (Conv2D)            (None, 14, 47, 36)        21636     \n",
      "_________________________________________________________________\n",
      "conv2d_2 (Conv2D)            (None, 5, 22, 48)         43248     \n",
      "_________________________________________________________________\n",
      "conv2d_3 (Conv2D)            (None, 3, 20, 64)         27712     \n",
      "_________________________________________________________________\n",
      "conv2d_4 (Conv2D)            (None, 1, 18, 64)         36928     \n",
      "_________________________________________________________________\n",
      "flatten (Flatten)            (None, 1152)              0         \n",
      "_________________________________________________________________\n",
      "dense (Dense)                (None, 100)               115300    \n",
      "_________________________________________________________________\n",
      "dense_1 (Dense)              (None, 50)                5050      \n",
      "_________________________________________________________________\n",
      "dense_2 (Dense)              (None, 10)                510       \n",
      "_________________________________________________________________\n",
      "dense_3 (Dense)              (None, 1)                 11        \n",
      "=================================================================\n",
      "Total params: 252,219\n",
      "Trainable params: 252,219\n",
      "Non-trainable params: 0\n",
      "_________________________________________________________________\n"
     ]
    }
   ],
   "source": [
    "model = ut.create_model(params) # Using loss function Mean Square Error\n",
    "model.summary()"
   ]
  },
  {
   "cell_type": "markdown",
   "id": "4966c876",
   "metadata": {},
   "source": [
    "### 6.2. Create Checkpoint Callback to save Epoch data\n",
    "\n",
    "Save intermediate Epoch data for safety purpose."
   ]
  },
  {
   "cell_type": "code",
   "execution_count": 10,
   "id": "6d67cc93",
   "metadata": {},
   "outputs": [],
   "source": [
    "checkpoint_filepath = 'model/checkpoint'\n",
    "\n",
    "model_checkpoint_callback = tf.keras.callbacks.ModelCheckpoint(\n",
    "    filepath=checkpoint_filepath,\n",
    "    save_weights_only=True,\n",
    "    monitor='val_loss',\n",
    "    mode='max',\n",
    "    save_best_only=True)"
   ]
  },
  {
   "cell_type": "markdown",
   "id": "a146a898",
   "metadata": {},
   "source": [
    "### 6.3. Train the model"
   ]
  },
  {
   "cell_type": "code",
   "execution_count": 11,
   "id": "317dbc61",
   "metadata": {},
   "outputs": [
    {
     "name": "stdout",
     "output_type": "stream",
     "text": [
      "Epoch 1/100\n"
     ]
    },
    {
     "name": "stderr",
     "output_type": "stream",
     "text": [
      "2021-07-12 21:33:51.544560: E tensorflow/core/platform/default/subprocess.cc:304] Start cannot spawn child process: No such file or directory\n",
      "2021-07-12 21:33:51.544591: W tensorflow/stream_executor/gpu/asm_compiler.cc:56] Couldn't invoke ptxas --version\n",
      "2021-07-12 21:33:51.544964: E tensorflow/core/platform/default/subprocess.cc:304] Start cannot spawn child process: No such file or directory\n",
      "2021-07-12 21:33:51.545040: W tensorflow/stream_executor/gpu/redzone_allocator.cc:314] Internal: Failed to launch ptxas\n",
      "Relying on driver to perform ptx compilation. \n",
      "Modify $PATH to customize ptxas location.\n",
      "This message will be only logged once.\n"
     ]
    },
    {
     "name": "stdout",
     "output_type": "stream",
     "text": [
      "50/50 [==============================] - 553s 10s/step - loss: 0.2708 - val_loss: 0.2294\n",
      "Epoch 2/100\n",
      "50/50 [==============================] - 286s 6s/step - loss: 0.2255 - val_loss: 0.2139\n",
      "Epoch 3/100\n",
      "50/50 [==============================] - 255s 5s/step - loss: 0.2126 - val_loss: 0.2014\n",
      "Epoch 4/100\n",
      "50/50 [==============================] - 250s 5s/step - loss: 0.2157 - val_loss: 0.2004\n",
      "Epoch 5/100\n",
      "50/50 [==============================] - 251s 5s/step - loss: 0.2077 - val_loss: 0.1899\n",
      "Epoch 6/100\n",
      "50/50 [==============================] - 251s 5s/step - loss: 0.2007 - val_loss: 0.1838\n",
      "Epoch 7/100\n",
      "50/50 [==============================] - 250s 5s/step - loss: 0.1902 - val_loss: 0.1704\n",
      "Epoch 8/100\n",
      "50/50 [==============================] - 250s 5s/step - loss: 0.1837 - val_loss: 0.1621\n",
      "Epoch 9/100\n",
      "50/50 [==============================] - 249s 5s/step - loss: 0.1807 - val_loss: 0.1504\n",
      "Epoch 10/100\n",
      "50/50 [==============================] - 251s 5s/step - loss: 0.1782 - val_loss: 0.1555\n",
      "Epoch 11/100\n",
      "50/50 [==============================] - 250s 5s/step - loss: 0.1732 - val_loss: 0.1488\n",
      "Epoch 12/100\n",
      "50/50 [==============================] - 248s 5s/step - loss: 0.1712 - val_loss: 0.1454\n",
      "Epoch 13/100\n",
      "50/50 [==============================] - 249s 5s/step - loss: 0.1668 - val_loss: 0.1459\n",
      "Epoch 14/100\n",
      "50/50 [==============================] - 248s 5s/step - loss: 0.1635 - val_loss: 0.1389\n",
      "Epoch 15/100\n",
      "50/50 [==============================] - 249s 5s/step - loss: 0.1611 - val_loss: 0.1483\n",
      "Epoch 16/100\n",
      "50/50 [==============================] - 248s 5s/step - loss: 0.1585 - val_loss: 0.1350\n",
      "Epoch 17/100\n",
      "50/50 [==============================] - 248s 5s/step - loss: 0.1597 - val_loss: 0.1326\n",
      "Epoch 18/100\n",
      "50/50 [==============================] - 248s 5s/step - loss: 0.1555 - val_loss: 0.1336\n",
      "Epoch 19/100\n",
      "50/50 [==============================] - 248s 5s/step - loss: 0.1560 - val_loss: 0.1320\n",
      "Epoch 20/100\n",
      "50/50 [==============================] - 248s 5s/step - loss: 0.1530 - val_loss: 0.1294\n",
      "Epoch 21/100\n",
      "50/50 [==============================] - 248s 5s/step - loss: 0.1488 - val_loss: 0.1294\n",
      "Epoch 22/100\n",
      "50/50 [==============================] - 248s 5s/step - loss: 0.1504 - val_loss: 0.1250\n",
      "Epoch 23/100\n",
      "50/50 [==============================] - 248s 5s/step - loss: 0.1468 - val_loss: 0.1253\n",
      "Epoch 24/100\n",
      "50/50 [==============================] - 248s 5s/step - loss: 0.1444 - val_loss: 0.1276\n",
      "Epoch 25/100\n",
      "50/50 [==============================] - 248s 5s/step - loss: 0.1463 - val_loss: 0.1220\n",
      "Epoch 26/100\n",
      "50/50 [==============================] - 250s 5s/step - loss: 0.1375 - val_loss: 0.1216\n",
      "Epoch 27/100\n",
      "50/50 [==============================] - 248s 5s/step - loss: 0.1425 - val_loss: 0.1210\n",
      "Epoch 28/100\n",
      "50/50 [==============================] - 251s 5s/step - loss: 0.1422 - val_loss: 0.1256\n",
      "Epoch 29/100\n",
      "50/50 [==============================] - 248s 5s/step - loss: 0.1377 - val_loss: 0.1225\n",
      "Epoch 30/100\n",
      "50/50 [==============================] - 250s 5s/step - loss: 0.1350 - val_loss: 0.1207\n",
      "Epoch 31/100\n",
      "50/50 [==============================] - 248s 5s/step - loss: 0.1351 - val_loss: 0.1176\n",
      "Epoch 32/100\n",
      "50/50 [==============================] - 248s 5s/step - loss: 0.1356 - val_loss: 0.1211\n",
      "Epoch 33/100\n",
      "50/50 [==============================] - 249s 5s/step - loss: 0.1352 - val_loss: 0.1169\n",
      "Epoch 34/100\n",
      "50/50 [==============================] - 248s 5s/step - loss: 0.1354 - val_loss: 0.1169\n",
      "Epoch 35/100\n",
      "50/50 [==============================] - 249s 5s/step - loss: 0.1348 - val_loss: 0.1138\n",
      "Epoch 36/100\n",
      "50/50 [==============================] - 249s 5s/step - loss: 0.1336 - val_loss: 0.1145\n",
      "Epoch 37/100\n",
      "50/50 [==============================] - 248s 5s/step - loss: 0.1306 - val_loss: 0.1158\n",
      "Epoch 38/100\n",
      "50/50 [==============================] - 249s 5s/step - loss: 0.1297 - val_loss: 0.1183\n",
      "Epoch 39/100\n",
      "50/50 [==============================] - 249s 5s/step - loss: 0.1295 - val_loss: 0.1126\n",
      "Epoch 40/100\n",
      "50/50 [==============================] - 248s 5s/step - loss: 0.1290 - val_loss: 0.1098\n",
      "Epoch 41/100\n",
      "50/50 [==============================] - 248s 5s/step - loss: 0.1288 - val_loss: 0.1122\n",
      "Epoch 42/100\n",
      "50/50 [==============================] - 249s 5s/step - loss: 0.1272 - val_loss: 0.1113\n",
      "Epoch 43/100\n",
      "50/50 [==============================] - 248s 5s/step - loss: 0.1268 - val_loss: 0.1126\n",
      "Epoch 44/100\n",
      "50/50 [==============================] - 248s 5s/step - loss: 0.1268 - val_loss: 0.1115\n",
      "Epoch 45/100\n",
      "50/50 [==============================] - 248s 5s/step - loss: 0.1238 - val_loss: 0.1091\n",
      "Epoch 46/100\n",
      "50/50 [==============================] - 249s 5s/step - loss: 0.1252 - val_loss: 0.1100\n",
      "Epoch 47/100\n",
      "50/50 [==============================] - 249s 5s/step - loss: 0.1250 - val_loss: 0.1108\n",
      "Epoch 48/100\n",
      "50/50 [==============================] - 248s 5s/step - loss: 0.1253 - val_loss: 0.1124\n",
      "Epoch 49/100\n",
      "50/50 [==============================] - 248s 5s/step - loss: 0.1233 - val_loss: 0.1095\n",
      "Epoch 50/100\n",
      "50/50 [==============================] - 249s 5s/step - loss: 0.1242 - val_loss: 0.1073\n",
      "Epoch 51/100\n",
      "50/50 [==============================] - 249s 5s/step - loss: 0.1239 - val_loss: 0.1082\n",
      "Epoch 52/100\n",
      "50/50 [==============================] - 248s 5s/step - loss: 0.1216 - val_loss: 0.1061\n",
      "Epoch 53/100\n",
      "50/50 [==============================] - 248s 5s/step - loss: 0.1201 - val_loss: 0.1048\n",
      "Epoch 54/100\n",
      "50/50 [==============================] - 248s 5s/step - loss: 0.1204 - val_loss: 0.1064\n",
      "Epoch 55/100\n",
      "50/50 [==============================] - 249s 5s/step - loss: 0.1227 - val_loss: 0.1076\n",
      "Epoch 56/100\n",
      "50/50 [==============================] - 249s 5s/step - loss: 0.1220 - val_loss: 0.1083\n",
      "Epoch 57/100\n",
      "50/50 [==============================] - 248s 5s/step - loss: 0.1218 - val_loss: 0.1020\n",
      "Epoch 58/100\n",
      "50/50 [==============================] - 249s 5s/step - loss: 0.1187 - val_loss: 0.1037\n",
      "Epoch 59/100\n",
      "50/50 [==============================] - 248s 5s/step - loss: 0.1187 - val_loss: 0.1040\n",
      "Epoch 60/100\n",
      "50/50 [==============================] - 249s 5s/step - loss: 0.1174 - val_loss: 0.1029\n",
      "Epoch 61/100\n",
      "50/50 [==============================] - 249s 5s/step - loss: 0.1189 - val_loss: 0.1023\n",
      "Epoch 62/100\n",
      "50/50 [==============================] - 248s 5s/step - loss: 0.1176 - val_loss: 0.1023\n",
      "Epoch 63/100\n",
      "50/50 [==============================] - 248s 5s/step - loss: 0.1179 - val_loss: 0.1056\n",
      "Epoch 64/100\n",
      "50/50 [==============================] - 249s 5s/step - loss: 0.1167 - val_loss: 0.1028\n",
      "Epoch 65/100\n",
      "50/50 [==============================] - 248s 5s/step - loss: 0.1151 - val_loss: 0.1050\n",
      "Epoch 66/100\n",
      "50/50 [==============================] - 248s 5s/step - loss: 0.1143 - val_loss: 0.1041\n",
      "Epoch 67/100\n",
      "50/50 [==============================] - 250s 5s/step - loss: 0.1194 - val_loss: 0.1066\n",
      "Epoch 68/100\n",
      "50/50 [==============================] - 248s 5s/step - loss: 0.1149 - val_loss: 0.1020\n",
      "Epoch 69/100\n",
      "50/50 [==============================] - 248s 5s/step - loss: 0.1139 - val_loss: 0.1001\n",
      "Epoch 70/100\n",
      "50/50 [==============================] - 248s 5s/step - loss: 0.1140 - val_loss: 0.1031\n",
      "Epoch 71/100\n",
      "50/50 [==============================] - 248s 5s/step - loss: 0.1152 - val_loss: 0.1026\n",
      "Epoch 72/100\n",
      "50/50 [==============================] - 250s 5s/step - loss: 0.1148 - val_loss: 0.1009\n",
      "Epoch 73/100\n",
      "50/50 [==============================] - 253s 5s/step - loss: 0.1156 - val_loss: 0.1007\n",
      "Epoch 74/100\n",
      "50/50 [==============================] - 254s 5s/step - loss: 0.1136 - val_loss: 0.1042\n",
      "Epoch 75/100\n",
      "50/50 [==============================] - 249s 5s/step - loss: 0.1142 - val_loss: 0.1033\n",
      "Epoch 76/100\n",
      "50/50 [==============================] - 251s 5s/step - loss: 0.1139 - val_loss: 0.1024\n",
      "Epoch 77/100\n",
      "50/50 [==============================] - 257s 5s/step - loss: 0.1118 - val_loss: 0.1008\n",
      "Epoch 78/100\n",
      "50/50 [==============================] - 256s 5s/step - loss: 0.1125 - val_loss: 0.1005\n",
      "Epoch 79/100\n",
      "50/50 [==============================] - 248s 5s/step - loss: 0.1115 - val_loss: 0.0996\n",
      "Epoch 80/100\n",
      "50/50 [==============================] - 249s 5s/step - loss: 0.1137 - val_loss: 0.0981\n",
      "Epoch 81/100\n",
      "50/50 [==============================] - 249s 5s/step - loss: 0.1114 - val_loss: 0.1007\n",
      "Epoch 82/100\n",
      "50/50 [==============================] - 248s 5s/step - loss: 0.1115 - val_loss: 0.0995\n",
      "Epoch 83/100\n",
      "50/50 [==============================] - 249s 5s/step - loss: 0.1101 - val_loss: 0.0988\n",
      "Epoch 84/100\n",
      "50/50 [==============================] - 250s 5s/step - loss: 0.1119 - val_loss: 0.0993\n",
      "Epoch 85/100\n",
      "50/50 [==============================] - 248s 5s/step - loss: 0.1102 - val_loss: 0.0969\n",
      "Epoch 86/100\n",
      "50/50 [==============================] - 248s 5s/step - loss: 0.1075 - val_loss: 0.0984\n",
      "Epoch 87/100\n",
      "50/50 [==============================] - 249s 5s/step - loss: 0.1115 - val_loss: 0.0990\n",
      "Epoch 88/100\n",
      "50/50 [==============================] - 248s 5s/step - loss: 0.1110 - val_loss: 0.1011\n",
      "Epoch 89/100\n",
      "50/50 [==============================] - 249s 5s/step - loss: 0.1086 - val_loss: 0.1003\n",
      "Epoch 90/100\n",
      "50/50 [==============================] - 249s 5s/step - loss: 0.1092 - val_loss: 0.0993\n",
      "Epoch 91/100\n",
      "50/50 [==============================] - 249s 5s/step - loss: 0.1072 - val_loss: 0.0988\n",
      "Epoch 92/100\n",
      "50/50 [==============================] - 250s 5s/step - loss: 0.1065 - val_loss: 0.1021\n",
      "Epoch 93/100\n",
      "50/50 [==============================] - 248s 5s/step - loss: 0.1081 - val_loss: 0.0959\n",
      "Epoch 94/100\n",
      "50/50 [==============================] - 251s 5s/step - loss: 0.1082 - val_loss: 0.0999\n",
      "Epoch 95/100\n",
      "50/50 [==============================] - 248s 5s/step - loss: 0.1079 - val_loss: 0.0965\n",
      "Epoch 96/100\n",
      "50/50 [==============================] - 249s 5s/step - loss: 0.1075 - val_loss: 0.1035\n",
      "Epoch 97/100\n",
      "50/50 [==============================] - 248s 5s/step - loss: 0.1081 - val_loss: 0.0986\n",
      "Epoch 98/100\n",
      "50/50 [==============================] - 249s 5s/step - loss: 0.1071 - val_loss: 0.0982\n",
      "Epoch 99/100\n",
      "50/50 [==============================] - 248s 5s/step - loss: 0.1056 - val_loss: 0.0968\n",
      "Epoch 100/100\n",
      "50/50 [==============================] - 248s 5s/step - loss: 0.1069 - val_loss: 0.0964\n"
     ]
    }
   ],
   "source": [
    "try:\n",
    "    batch_size = 500\n",
    "    history = model.fit(batch_gen(x_train, y_train, batch_size, True),\n",
    "                        batch_size=batch_size,\n",
    "                        steps_per_epoch=50, \n",
    "                        epochs=100,\n",
    "                        shuffle=True,\n",
    "                        validation_data=batch_gen(x_val, y_val, batch_size, False), \n",
    "                        validation_steps=200, \n",
    "                        callbacks=model_checkpoint_callback,\n",
    "                        use_multiprocessing=False)\n",
    "except KeyboardInterrupt:\n",
    "    pass\n",
    "finally:\n",
    "    model.save('model/model.h5')"
   ]
  },
  {
   "cell_type": "code",
   "execution_count": 12,
   "id": "fcf8d19b",
   "metadata": {},
   "outputs": [
    {
     "name": "stdout",
     "output_type": "stream",
     "text": [
      "Epoch 101/200\n",
      "50/50 [==============================] - 74s 1s/step - loss: 0.1081\n",
      "WARNING:tensorflow:Can save best model only with val_loss available, skipping.\n",
      "Epoch 102/200\n",
      "50/50 [==============================] - 75s 1s/step - loss: 0.1072\n",
      "WARNING:tensorflow:Can save best model only with val_loss available, skipping.\n",
      "Epoch 103/200\n",
      "50/50 [==============================] - 75s 1s/step - loss: 0.1046\n",
      "WARNING:tensorflow:Can save best model only with val_loss available, skipping.\n",
      "Epoch 104/200\n",
      "50/50 [==============================] - 250s 5s/step - loss: 0.1046 - val_loss: 0.0977\n",
      "Epoch 105/200\n",
      "50/50 [==============================] - 74s 2s/step - loss: 0.1046\n",
      "WARNING:tensorflow:Can save best model only with val_loss available, skipping.\n",
      "Epoch 106/200\n",
      "50/50 [==============================] - 75s 1s/step - loss: 0.1047\n",
      "WARNING:tensorflow:Can save best model only with val_loss available, skipping.\n",
      "Epoch 107/200\n",
      "50/50 [==============================] - 75s 1s/step - loss: 0.1062\n",
      "WARNING:tensorflow:Can save best model only with val_loss available, skipping.\n",
      "Epoch 108/200\n",
      "50/50 [==============================] - 255s 5s/step - loss: 0.1036 - val_loss: 0.0978\n",
      "Epoch 109/200\n",
      "50/50 [==============================] - 74s 2s/step - loss: 0.1041\n",
      "WARNING:tensorflow:Can save best model only with val_loss available, skipping.\n",
      "Epoch 110/200\n",
      "50/50 [==============================] - 75s 2s/step - loss: 0.1039\n",
      "WARNING:tensorflow:Can save best model only with val_loss available, skipping.\n",
      "Epoch 111/200\n",
      "50/50 [==============================] - 75s 2s/step - loss: 0.1043\n",
      "WARNING:tensorflow:Can save best model only with val_loss available, skipping.\n",
      "Epoch 112/200\n",
      "50/50 [==============================] - 252s 5s/step - loss: 0.1045 - val_loss: 0.0996\n",
      "Epoch 113/200\n",
      "50/50 [==============================] - 74s 1s/step - loss: 0.1044\n",
      "WARNING:tensorflow:Can save best model only with val_loss available, skipping.\n",
      "Epoch 114/200\n",
      "50/50 [==============================] - 75s 2s/step - loss: 0.1044\n",
      "WARNING:tensorflow:Can save best model only with val_loss available, skipping.\n",
      "Epoch 115/200\n",
      "50/50 [==============================] - 75s 2s/step - loss: 0.1028\n",
      "WARNING:tensorflow:Can save best model only with val_loss available, skipping.\n",
      "Epoch 116/200\n",
      "50/50 [==============================] - 252s 5s/step - loss: 0.1016 - val_loss: 0.0941\n",
      "Epoch 117/200\n",
      "50/50 [==============================] - 74s 2s/step - loss: 0.1031\n",
      "WARNING:tensorflow:Can save best model only with val_loss available, skipping.\n",
      "Epoch 118/200\n",
      "50/50 [==============================] - 75s 1s/step - loss: 0.1036\n",
      "WARNING:tensorflow:Can save best model only with val_loss available, skipping.\n",
      "Epoch 119/200\n",
      "50/50 [==============================] - 75s 1s/step - loss: 0.1019\n",
      "WARNING:tensorflow:Can save best model only with val_loss available, skipping.\n",
      "Epoch 120/200\n",
      "50/50 [==============================] - 252s 5s/step - loss: 0.1020 - val_loss: 0.0987\n",
      "Epoch 121/200\n",
      "50/50 [==============================] - 73s 1s/step - loss: 0.1036\n",
      "WARNING:tensorflow:Can save best model only with val_loss available, skipping.\n",
      "Epoch 122/200\n",
      "50/50 [==============================] - 75s 1s/step - loss: 0.1024\n",
      "WARNING:tensorflow:Can save best model only with val_loss available, skipping.\n",
      "Epoch 123/200\n",
      "50/50 [==============================] - 74s 1s/step - loss: 0.1017\n",
      "WARNING:tensorflow:Can save best model only with val_loss available, skipping.\n",
      "Epoch 124/200\n",
      "50/50 [==============================] - 249s 5s/step - loss: 0.1000 - val_loss: 0.0956\n",
      "Epoch 125/200\n",
      "50/50 [==============================] - 73s 1s/step - loss: 0.1011\n",
      "WARNING:tensorflow:Can save best model only with val_loss available, skipping.\n",
      "Epoch 126/200\n",
      "50/50 [==============================] - 75s 2s/step - loss: 0.1022\n",
      "WARNING:tensorflow:Can save best model only with val_loss available, skipping.\n",
      "Epoch 127/200\n",
      "50/50 [==============================] - 75s 1s/step - loss: 0.1006\n",
      "WARNING:tensorflow:Can save best model only with val_loss available, skipping.\n",
      "Epoch 128/200\n",
      "50/50 [==============================] - 249s 5s/step - loss: 0.1016 - val_loss: 0.0949\n",
      "Epoch 129/200\n",
      "50/50 [==============================] - 73s 1s/step - loss: 0.1004\n",
      "WARNING:tensorflow:Can save best model only with val_loss available, skipping.\n",
      "Epoch 130/200\n",
      "50/50 [==============================] - 74s 1s/step - loss: 0.1020\n",
      "WARNING:tensorflow:Can save best model only with val_loss available, skipping.\n",
      "Epoch 131/200\n",
      "50/50 [==============================] - 75s 1s/step - loss: 0.1006\n",
      "WARNING:tensorflow:Can save best model only with val_loss available, skipping.\n",
      "Epoch 132/200\n",
      "50/50 [==============================] - 249s 5s/step - loss: 0.1005 - val_loss: 0.0936\n",
      "Epoch 133/200\n",
      "50/50 [==============================] - 73s 1s/step - loss: 0.1011\n",
      "WARNING:tensorflow:Can save best model only with val_loss available, skipping.\n",
      "Epoch 134/200\n",
      "50/50 [==============================] - 74s 1s/step - loss: 0.0991\n",
      "WARNING:tensorflow:Can save best model only with val_loss available, skipping.\n",
      "Epoch 135/200\n",
      "50/50 [==============================] - 75s 1s/step - loss: 0.1000\n",
      "WARNING:tensorflow:Can save best model only with val_loss available, skipping.\n",
      "Epoch 136/200\n",
      "50/50 [==============================] - 250s 5s/step - loss: 0.1001 - val_loss: 0.0939\n",
      "Epoch 137/200\n",
      "50/50 [==============================] - 73s 1s/step - loss: 0.1001\n",
      "WARNING:tensorflow:Can save best model only with val_loss available, skipping.\n",
      "Epoch 138/200\n",
      "50/50 [==============================] - 75s 1s/step - loss: 0.0985\n",
      "WARNING:tensorflow:Can save best model only with val_loss available, skipping.\n",
      "Epoch 139/200\n",
      "50/50 [==============================] - 75s 1s/step - loss: 0.0996\n",
      "WARNING:tensorflow:Can save best model only with val_loss available, skipping.\n",
      "Epoch 140/200\n",
      "50/50 [==============================] - 250s 5s/step - loss: 0.1002 - val_loss: 0.0941\n",
      "Epoch 141/200\n",
      "50/50 [==============================] - 73s 1s/step - loss: 0.1008\n",
      "WARNING:tensorflow:Can save best model only with val_loss available, skipping.\n",
      "Epoch 142/200\n",
      "50/50 [==============================] - 74s 1s/step - loss: 0.0987\n",
      "WARNING:tensorflow:Can save best model only with val_loss available, skipping.\n",
      "Epoch 143/200\n",
      "50/50 [==============================] - 75s 1s/step - loss: 0.0994\n",
      "WARNING:tensorflow:Can save best model only with val_loss available, skipping.\n",
      "Epoch 144/200\n",
      "50/50 [==============================] - 253s 5s/step - loss: 0.0991 - val_loss: 0.0929\n",
      "Epoch 145/200\n",
      "50/50 [==============================] - 74s 1s/step - loss: 0.0980\n",
      "WARNING:tensorflow:Can save best model only with val_loss available, skipping.\n",
      "Epoch 146/200\n",
      "50/50 [==============================] - 75s 1s/step - loss: 0.0974\n",
      "WARNING:tensorflow:Can save best model only with val_loss available, skipping.\n",
      "Epoch 147/200\n",
      "50/50 [==============================] - 75s 2s/step - loss: 0.0992\n",
      "WARNING:tensorflow:Can save best model only with val_loss available, skipping.\n",
      "Epoch 148/200\n",
      "50/50 [==============================] - 253s 5s/step - loss: 0.0960 - val_loss: 0.0929\n",
      "Epoch 149/200\n",
      "50/50 [==============================] - 74s 1s/step - loss: 0.0986\n",
      "WARNING:tensorflow:Can save best model only with val_loss available, skipping.\n",
      "Epoch 150/200\n",
      "50/50 [==============================] - 75s 1s/step - loss: 0.0975\n",
      "WARNING:tensorflow:Can save best model only with val_loss available, skipping.\n",
      "Epoch 151/200\n",
      "50/50 [==============================] - 74s 1s/step - loss: 0.0975\n",
      "WARNING:tensorflow:Can save best model only with val_loss available, skipping.\n",
      "Epoch 152/200\n",
      "50/50 [==============================] - 251s 5s/step - loss: 0.0962 - val_loss: 0.0930\n",
      "Epoch 153/200\n",
      "50/50 [==============================] - 74s 1s/step - loss: 0.0972\n",
      "WARNING:tensorflow:Can save best model only with val_loss available, skipping.\n",
      "Epoch 154/200\n",
      "50/50 [==============================] - 74s 1s/step - loss: 0.0971\n",
      "WARNING:tensorflow:Can save best model only with val_loss available, skipping.\n",
      "Epoch 155/200\n",
      "50/50 [==============================] - 74s 1s/step - loss: 0.0957\n",
      "WARNING:tensorflow:Can save best model only with val_loss available, skipping.\n",
      "Epoch 156/200\n",
      "50/50 [==============================] - 251s 5s/step - loss: 0.0979 - val_loss: 0.0940\n",
      "Epoch 157/200\n"
     ]
    },
    {
     "name": "stdout",
     "output_type": "stream",
     "text": [
      "50/50 [==============================] - 73s 1s/step - loss: 0.0971\n",
      "WARNING:tensorflow:Can save best model only with val_loss available, skipping.\n",
      "Epoch 158/200\n",
      "50/50 [==============================] - 74s 1s/step - loss: 0.0966\n",
      "WARNING:tensorflow:Can save best model only with val_loss available, skipping.\n",
      "Epoch 159/200\n",
      "50/50 [==============================] - 74s 1s/step - loss: 0.0961\n",
      "WARNING:tensorflow:Can save best model only with val_loss available, skipping.\n",
      "Epoch 160/200\n",
      "50/50 [==============================] - 250s 5s/step - loss: 0.0950 - val_loss: 0.0926\n",
      "Epoch 161/200\n",
      "50/50 [==============================] - 73s 1s/step - loss: 0.0963\n",
      "WARNING:tensorflow:Can save best model only with val_loss available, skipping.\n",
      "Epoch 162/200\n",
      "50/50 [==============================] - 75s 1s/step - loss: 0.0952\n",
      "WARNING:tensorflow:Can save best model only with val_loss available, skipping.\n",
      "Epoch 163/200\n",
      "50/50 [==============================] - 74s 1s/step - loss: 0.0956\n",
      "WARNING:tensorflow:Can save best model only with val_loss available, skipping.\n",
      "Epoch 164/200\n",
      "50/50 [==============================] - 250s 5s/step - loss: 0.0957 - val_loss: 0.0920\n",
      "Epoch 165/200\n",
      "50/50 [==============================] - 73s 1s/step - loss: 0.0961\n",
      "WARNING:tensorflow:Can save best model only with val_loss available, skipping.\n",
      "Epoch 166/200\n",
      "50/50 [==============================] - 74s 1s/step - loss: 0.0947\n",
      "WARNING:tensorflow:Can save best model only with val_loss available, skipping.\n",
      "Epoch 167/200\n",
      "50/50 [==============================] - 75s 1s/step - loss: 0.0952\n",
      "WARNING:tensorflow:Can save best model only with val_loss available, skipping.\n",
      "Epoch 168/200\n",
      "50/50 [==============================] - 257s 5s/step - loss: 0.0966 - val_loss: 0.0909\n",
      "Epoch 169/200\n",
      "50/50 [==============================] - 75s 2s/step - loss: 0.0947\n",
      "WARNING:tensorflow:Can save best model only with val_loss available, skipping.\n",
      "Epoch 170/200\n",
      "50/50 [==============================] - 75s 2s/step - loss: 0.0957\n",
      "WARNING:tensorflow:Can save best model only with val_loss available, skipping.\n",
      "Epoch 171/200\n",
      "50/50 [==============================] - 75s 2s/step - loss: 0.0957\n",
      "WARNING:tensorflow:Can save best model only with val_loss available, skipping.\n",
      "Epoch 172/200\n",
      "50/50 [==============================] - 253s 5s/step - loss: 0.0943 - val_loss: 0.0946\n",
      "Epoch 173/200\n",
      "50/50 [==============================] - 74s 2s/step - loss: 0.0962\n",
      "WARNING:tensorflow:Can save best model only with val_loss available, skipping.\n",
      "Epoch 174/200\n",
      "50/50 [==============================] - 77s 2s/step - loss: 0.0951\n",
      "WARNING:tensorflow:Can save best model only with val_loss available, skipping.\n",
      "Epoch 175/200\n",
      "50/50 [==============================] - 75s 2s/step - loss: 0.0928\n",
      "WARNING:tensorflow:Can save best model only with val_loss available, skipping.\n",
      "Epoch 176/200\n",
      "50/50 [==============================] - 253s 5s/step - loss: 0.0945 - val_loss: 0.0899\n",
      "Epoch 177/200\n",
      "50/50 [==============================] - 74s 2s/step - loss: 0.0957\n",
      "WARNING:tensorflow:Can save best model only with val_loss available, skipping.\n",
      "Epoch 178/200\n",
      "50/50 [==============================] - 76s 2s/step - loss: 0.0935\n",
      "WARNING:tensorflow:Can save best model only with val_loss available, skipping.\n",
      "Epoch 179/200\n",
      "50/50 [==============================] - 75s 2s/step - loss: 0.0961\n",
      "WARNING:tensorflow:Can save best model only with val_loss available, skipping.\n",
      "Epoch 180/200\n",
      "50/50 [==============================] - 250s 5s/step - loss: 0.0944 - val_loss: 0.0949\n",
      "Epoch 181/200\n",
      "50/50 [==============================] - 74s 2s/step - loss: 0.0940\n",
      "WARNING:tensorflow:Can save best model only with val_loss available, skipping.\n",
      "Epoch 182/200\n",
      "50/50 [==============================] - 75s 2s/step - loss: 0.0943\n",
      "WARNING:tensorflow:Can save best model only with val_loss available, skipping.\n",
      "Epoch 183/200\n",
      "50/50 [==============================] - 77s 2s/step - loss: 0.0950\n",
      "WARNING:tensorflow:Can save best model only with val_loss available, skipping.\n",
      "Epoch 184/200\n",
      "50/50 [==============================] - 252s 5s/step - loss: 0.0932 - val_loss: 0.0907\n",
      "Epoch 185/200\n",
      "50/50 [==============================] - 74s 2s/step - loss: 0.0932\n",
      "WARNING:tensorflow:Can save best model only with val_loss available, skipping.\n",
      "Epoch 186/200\n",
      "50/50 [==============================] - 74s 1s/step - loss: 0.0936\n",
      "WARNING:tensorflow:Can save best model only with val_loss available, skipping.\n",
      "Epoch 187/200\n",
      "50/50 [==============================] - 75s 1s/step - loss: 0.0924\n",
      "WARNING:tensorflow:Can save best model only with val_loss available, skipping.\n",
      "Epoch 188/200\n",
      "50/50 [==============================] - 249s 5s/step - loss: 0.0937 - val_loss: 0.0905\n",
      "Epoch 189/200\n",
      "50/50 [==============================] - 73s 1s/step - loss: 0.0923\n",
      "WARNING:tensorflow:Can save best model only with val_loss available, skipping.\n",
      "Epoch 190/200\n",
      "50/50 [==============================] - 75s 1s/step - loss: 0.0943\n",
      "WARNING:tensorflow:Can save best model only with val_loss available, skipping.\n",
      "Epoch 191/200\n",
      "50/50 [==============================] - 75s 1s/step - loss: 0.0939\n",
      "WARNING:tensorflow:Can save best model only with val_loss available, skipping.\n",
      "Epoch 192/200\n",
      "50/50 [==============================] - 251s 5s/step - loss: 0.0928 - val_loss: 0.0903\n",
      "Epoch 193/200\n",
      "50/50 [==============================] - 73s 1s/step - loss: 0.0921\n",
      "WARNING:tensorflow:Can save best model only with val_loss available, skipping.\n",
      "Epoch 194/200\n",
      "50/50 [==============================] - 75s 1s/step - loss: 0.0938\n",
      "WARNING:tensorflow:Can save best model only with val_loss available, skipping.\n",
      "Epoch 195/200\n",
      "50/50 [==============================] - 74s 1s/step - loss: 0.0925\n",
      "WARNING:tensorflow:Can save best model only with val_loss available, skipping.\n",
      "Epoch 196/200\n",
      "50/50 [==============================] - 249s 5s/step - loss: 0.0922 - val_loss: 0.0909\n",
      "Epoch 197/200\n",
      "50/50 [==============================] - 73s 1s/step - loss: 0.0926\n",
      "WARNING:tensorflow:Can save best model only with val_loss available, skipping.\n",
      "Epoch 198/200\n",
      "50/50 [==============================] - 74s 1s/step - loss: 0.0915\n",
      "WARNING:tensorflow:Can save best model only with val_loss available, skipping.\n",
      "Epoch 199/200\n",
      "50/50 [==============================] - 75s 1s/step - loss: 0.0924\n",
      "WARNING:tensorflow:Can save best model only with val_loss available, skipping.\n",
      "Epoch 200/200\n",
      "50/50 [==============================] - 250s 5s/step - loss: 0.0926 - val_loss: 0.0927\n"
     ]
    }
   ],
   "source": [
    "try:\n",
    "    batch_size = 500\n",
    "    history_2 = model.fit(batch_gen(x_train, y_train, batch_size, True),\n",
    "                        batch_size=batch_size,\n",
    "                        steps_per_epoch=50, \n",
    "                        initial_epoch =100,\n",
    "                        epochs=200,\n",
    "                        validation_freq = 5,\n",
    "                        shuffle=True,\n",
    "                        validation_data=batch_gen(x_val, y_val, batch_size, False), \n",
    "                        validation_steps=200, \n",
    "                        callbacks=model_checkpoint_callback,\n",
    "                        use_multiprocessing=False)\n",
    "except KeyboardInterrupt:\n",
    "    pass\n",
    "finally:\n",
    "    model.save('model/model.h5')"
   ]
  },
  {
   "cell_type": "code",
   "execution_count": 55,
   "id": "8ddd9e3e",
   "metadata": {},
   "outputs": [],
   "source": [
    "val_loss_data = [float(\"{:.4f}\".format(val_loss)) for val_loss in history.history['val_loss']]\n",
    "val_loss_data_2 = [float(\"{:.4f}\".format(val_loss)) for val_loss in history_2.history['val_loss']]\n",
    "\n",
    "for val in val_loss_data_2:\n",
    "    for x in range(4):\n",
    "        val_loss_data.append(val)\n",
    "        \n",
    "train_loss_data = [float(\"{:.4f}\".format(loss)) for loss in history.history['loss']]\n",
    "for loss in history_2.history['loss']:\n",
    "    train_loss_data.append(loss)\n",
    "    \n",
    "val_acc_data = [float(\"{:.4f}\".format(1 - val_loss)) for val_loss in val_loss_data]\n",
    "train_acc_data = [float(\"{:.4f}\".format(1 - val_loss)) for val_loss in train_loss_data]"
   ]
  },
  {
   "cell_type": "code",
   "execution_count": 56,
   "id": "c120a470",
   "metadata": {},
   "outputs": [
    {
     "data": {
      "image/png": "[encoded data removed]",
      "text/plain": [
       "<Figure size 432x288 with 1 Axes>"
      ]
     },
     "metadata": {
      "needs_background": "light"
     },
     "output_type": "display_data"
    },
    {
     "data": {
      "image/png": "[encoded data removed]",
      "text/plain": [
       "<Figure size 432x288 with 1 Axes>"
      ]
     },
     "metadata": {
      "needs_background": "light"
     },
     "output_type": "display_data"
    }
   ],
   "source": [
    "import matplotlib.pyplot as plt\n",
    "\n",
    "# summarize history for accuracy\n",
    "plt.plot(train_loss_data)\n",
    "plt.plot(val_loss_data)\n",
    "plt.title('model loss')\n",
    "plt.ylabel('loss')\n",
    "plt.xlabel('epoch')\n",
    "plt.legend(['train', 'test'], loc='upper left')\n",
    "plt.show()\n",
    "# summarize history for loss\n",
    "plt.plot(train_acc_data)\n",
    "plt.plot(val_acc_data)\n",
    "plt.title('model accuracy')\n",
    "plt.ylabel('accuracy')\n",
    "plt.xlabel('epoch')\n",
    "plt.legend(['train', 'test'], loc='upper left')\n",
    "plt.show()"
   ]
  },
  {
   "cell_type": "code",
   "execution_count": null,
   "id": "3aab3a9c",
   "metadata": {},
   "outputs": [],
   "source": []
  }
 ],
 "metadata": {
  "kernelspec": {
   "display_name": "Python 3 (ipykernel)",
   "language": "python",
   "name": "python3"
  },
  "language_info": {
   "codemirror_mode": {
    "name": "ipython",
    "version": 3
   },
   "file_extension": ".py",
   "mimetype": "text/x-python",
   "name": "python",
   "nbconvert_exporter": "python",
   "pygments_lexer": "ipython3",
   "version": "3.8.10"
  }
 },
 "nbformat": 4,
 "nbformat_minor": 5
}
